{
 "cells": [
  {
   "cell_type": "code",
   "execution_count": 1,
   "id": "7cc737ad-d0be-4aec-9ba8-0a15d0575e4e",
   "metadata": {},
   "outputs": [
    {
     "name": "stderr",
     "output_type": "stream",
     "text": [
      "C:\\Users\\goober\\AppData\\Local\\Programs\\Python\\Python312\\Lib\\site-packages\\tqdm\\auto.py:21: TqdmWarning: IProgress not found. Please update jupyter and ipywidgets. See https://ipywidgets.readthedocs.io/en/stable/user_install.html\n",
      "  from .autonotebook import tqdm as notebook_tqdm\n"
     ]
    }
   ],
   "source": [
    "import pandas as pd\n",
    "import numpy as np\n",
    "\n",
    "from sklearn.model_selection import train_test_split\n",
    "from sklearn.preprocessing import LabelEncoder\n",
    "\n",
    "import tensorflow as tf\n",
    "\n",
    "import optuna"
   ]
  },
  {
   "cell_type": "code",
   "execution_count": 2,
   "id": "9fe5f8f8-2ee8-432d-b8f5-2402b7fdc645",
   "metadata": {},
   "outputs": [],
   "source": [
    "ratings = pd.read_csv('data/ratings.csv')\n",
    "movies = pd.read_csv('data/movies.csv')"
   ]
  },
  {
   "cell_type": "code",
   "execution_count": 3,
   "id": "171721f4-e6d1-4ebb-8fbb-6fbaa29ddc8f",
   "metadata": {},
   "outputs": [
    {
     "name": "stdout",
     "output_type": "stream",
     "text": [
      "   userId  movieId  rating  timestamp\n",
      "0       1       17     4.0  944249077\n",
      "1       1       25     1.0  944250228\n",
      "2       1       29     2.0  943230976\n",
      "3       1       30     5.0  944249077\n",
      "4       1       32     5.0  943228858\n",
      "   movieId                               title  \\\n",
      "0        1                    Toy Story (1995)   \n",
      "1        2                      Jumanji (1995)   \n",
      "2        3             Grumpier Old Men (1995)   \n",
      "3        4            Waiting to Exhale (1995)   \n",
      "4        5  Father of the Bride Part II (1995)   \n",
      "\n",
      "                                        genres  \n",
      "0  Adventure|Animation|Children|Comedy|Fantasy  \n",
      "1                   Adventure|Children|Fantasy  \n",
      "2                               Comedy|Romance  \n",
      "3                         Comedy|Drama|Romance  \n",
      "4                                       Comedy  \n"
     ]
    }
   ],
   "source": [
    "print(ratings.head())\n",
    "print(movies.head())"
   ]
  },
  {
   "cell_type": "code",
   "execution_count": 4,
   "id": "a96b4ccd-6061-4c4d-8160-b89a20c25fe6",
   "metadata": {},
   "outputs": [],
   "source": [
    "user_encoder = LabelEncoder()\n",
    "movie_encoder = LabelEncoder()\n",
    "\n",
    "ratings['userId'] = user_encoder.fit_transform(ratings['userId'])\n",
    "ratings['movieId'] = movie_encoder.fit_transform(ratings['movieId'])\n",
    "\n",
    "num_users = ratings['userId'].nunique()\n",
    "num_movies = ratings['movieId'].nunique()"
   ]
  },
  {
   "cell_type": "markdown",
   "id": "cefdc481-ff9f-4e39-878d-92cdd0f32ca1",
   "metadata": {},
   "source": [
    "### Creating a Neural Collaborative Filtering Model (with Tensorflow)"
   ]
  },
  {
   "cell_type": "code",
   "execution_count": 6,
   "id": "60e3c570-191b-4f14-8fb7-6483619d8f3c",
   "metadata": {},
   "outputs": [],
   "source": [
    "class NCFModel(tf.keras.Model):\n",
    "    def __init__(self, num_users, num_movies, embedding_size):\n",
    "        super(NCFModel, self).__init__()\n",
    "        self.user_embedding = tf.keras.layers.Embedding(num_users, embedding_size)\n",
    "        self.movie_embedding = tf.keras.layers.Embedding(num_movies, embedding_size)\n",
    "\n",
    "        self.fc1 = tf.keras.layers.Dense(128, activation='relu')\n",
    "        self.fc2 = tf.keras.layers.Dense(64, activation='relu')\n",
    "        self.output_layer = tf.keras.layers.Dense(1, activation='sigmoid')  # For ratings between 0 and 1\n",
    "\n",
    "    def call(self, inputs):\n",
    "        user_id, movie_id = inputs\n",
    "        user_embedding = self.user_embedding(user_id)\n",
    "        movie_embedding = self.movie_embedding(movie_id)\n",
    "\n",
    "        # Concatenate user and movie embeddings\n",
    "        concatenated = tf.concat([user_embedding, movie_embedding], axis=1)\n",
    "        x = self.fc1(concatenated)\n",
    "        x = self.fc2(x)\n",
    "        return self.output_layer(x)"
   ]
  },
  {
   "cell_type": "code",
   "execution_count": 7,
   "id": "f998038e-8ace-4dbd-8523-2b5525254e65",
   "metadata": {},
   "outputs": [],
   "source": [
    "embedding_size = 50  # You can experiment with this value\n",
    "model = NCFModel(num_users, num_movies, embedding_size)"
   ]
  },
  {
   "cell_type": "code",
   "execution_count": 8,
   "id": "81821322-96ed-46da-b365-56cb520eec04",
   "metadata": {},
   "outputs": [],
   "source": [
    "model.compile(optimizer='adam', loss='mean_squared_error', metrics=['mae'])"
   ]
  },
  {
   "cell_type": "code",
   "execution_count": 9,
   "id": "b3ea0dd9-1909-433a-bdb6-7ac6b81034c0",
   "metadata": {},
   "outputs": [],
   "source": [
    "X = ratings[['userId', 'movieId']].values\n",
    "y = ratings['rating'].values"
   ]
  },
  {
   "cell_type": "code",
   "execution_count": null,
   "id": "c3c12871-7e03-4d05-b3a7-7cadb1df4873",
   "metadata": {},
   "outputs": [],
   "source": []
  }
 ],
 "metadata": {
  "kernelspec": {
   "display_name": "Python 3 (ipykernel)",
   "language": "python",
   "name": "python3"
  },
  "language_info": {
   "codemirror_mode": {
    "name": "ipython",
    "version": 3
   },
   "file_extension": ".py",
   "mimetype": "text/x-python",
   "name": "python",
   "nbconvert_exporter": "python",
   "pygments_lexer": "ipython3",
   "version": "3.12.5"
  }
 },
 "nbformat": 4,
 "nbformat_minor": 5
}
